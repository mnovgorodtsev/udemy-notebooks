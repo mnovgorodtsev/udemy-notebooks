{
  "nbformat": 4,
  "nbformat_minor": 0,
  "metadata": {
    "colab": {
      "provenance": [],
      "gpuType": "T4"
    },
    "kernelspec": {
      "name": "python3",
      "display_name": "Python 3"
    },
    "accelerator": "GPU"
  },
  "cells": [
    {
      "cell_type": "markdown",
      "metadata": {
        "id": "0MRC0e0KhQ0S"
      },
      "source": [
        "# Logistic Regression"
      ]
    },
    {
      "cell_type": "markdown",
      "metadata": {
        "id": "LWd1UlMnhT2s"
      },
      "source": [
        "## Importing the libraries"
      ]
    },
    {
      "cell_type": "code",
      "metadata": {
        "id": "YvGPUQaHhXfL"
      },
      "source": [
        "import numpy as np\n",
        "import matplotlib.pyplot as plt\n",
        "import pandas as pd"
      ],
      "execution_count": 74,
      "outputs": []
    },
    {
      "cell_type": "markdown",
      "metadata": {
        "id": "K1VMqkGvhc3-"
      },
      "source": [
        "## Importing the dataset"
      ]
    },
    {
      "cell_type": "code",
      "metadata": {
        "id": "M52QDmyzhh9s"
      },
      "source": [
        "dataset = pd.read_csv('Social_Network_Ads.csv')\n",
        "X = dataset.iloc[:, :-1].values\n",
        "y = dataset.iloc[:, -1].values\n"
      ],
      "execution_count": 75,
      "outputs": []
    },
    {
      "cell_type": "markdown",
      "metadata": {
        "id": "YvxIPVyMhmKp"
      },
      "source": [
        "## Splitting the dataset into the Training set and Test set"
      ]
    },
    {
      "cell_type": "code",
      "metadata": {
        "id": "AVzJWAXIhxoC"
      },
      "source": [
        "from sklearn.model_selection import train_test_split\n",
        "X_train, X_test, y_train, y_test = train_test_split(X, y, test_size = 0.25, random_state = 0)"
      ],
      "execution_count": 76,
      "outputs": []
    },
    {
      "cell_type": "code",
      "metadata": {
        "id": "P3nS3-6r1i2B",
        "outputId": "e605a71e-bff2-4223-bb66-bf7a1b031f66",
        "colab": {
          "base_uri": "https://localhost:8080/"
        }
      },
      "source": [
        "print(X_train)"
      ],
      "execution_count": 77,
      "outputs": [
        {
          "output_type": "stream",
          "name": "stdout",
          "text": [
            "[[    44  39000]\n",
            " [    32 120000]\n",
            " [    38  50000]\n",
            " [    32 135000]\n",
            " [    52  21000]\n",
            " [    53 104000]\n",
            " [    39  42000]\n",
            " [    38  61000]\n",
            " [    36  50000]\n",
            " [    36  63000]\n",
            " [    35  25000]\n",
            " [    35  50000]\n",
            " [    42  73000]\n",
            " [    47  49000]\n",
            " [    59  29000]\n",
            " [    49  65000]\n",
            " [    45 131000]\n",
            " [    31  89000]\n",
            " [    46  82000]\n",
            " [    47  51000]\n",
            " [    26  15000]\n",
            " [    60 102000]\n",
            " [    38 112000]\n",
            " [    40 107000]\n",
            " [    42  53000]\n",
            " [    35  59000]\n",
            " [    48  41000]\n",
            " [    48 134000]\n",
            " [    38 113000]\n",
            " [    29 148000]\n",
            " [    26  15000]\n",
            " [    60  42000]\n",
            " [    24  19000]\n",
            " [    42 149000]\n",
            " [    46  96000]\n",
            " [    28  59000]\n",
            " [    39  96000]\n",
            " [    28  89000]\n",
            " [    41  72000]\n",
            " [    45  26000]\n",
            " [    33  69000]\n",
            " [    20  82000]\n",
            " [    31  74000]\n",
            " [    42  80000]\n",
            " [    35  72000]\n",
            " [    33 149000]\n",
            " [    40  71000]\n",
            " [    51 146000]\n",
            " [    46  79000]\n",
            " [    35  75000]\n",
            " [    38  51000]\n",
            " [    36  75000]\n",
            " [    37  78000]\n",
            " [    38  61000]\n",
            " [    60 108000]\n",
            " [    20  82000]\n",
            " [    57  74000]\n",
            " [    42  65000]\n",
            " [    26  80000]\n",
            " [    46 117000]\n",
            " [    35  61000]\n",
            " [    21  68000]\n",
            " [    28  44000]\n",
            " [    41  87000]\n",
            " [    37  33000]\n",
            " [    27  90000]\n",
            " [    39  42000]\n",
            " [    28 123000]\n",
            " [    31 118000]\n",
            " [    25  87000]\n",
            " [    35  71000]\n",
            " [    37  70000]\n",
            " [    35  39000]\n",
            " [    47  23000]\n",
            " [    35 147000]\n",
            " [    48 138000]\n",
            " [    26  86000]\n",
            " [    25  79000]\n",
            " [    52 138000]\n",
            " [    51  23000]\n",
            " [    35  60000]\n",
            " [    33 113000]\n",
            " [    30 107000]\n",
            " [    48  33000]\n",
            " [    41  80000]\n",
            " [    48  96000]\n",
            " [    31  18000]\n",
            " [    31  71000]\n",
            " [    43 129000]\n",
            " [    59  76000]\n",
            " [    18  44000]\n",
            " [    36 118000]\n",
            " [    42  90000]\n",
            " [    47  30000]\n",
            " [    26  43000]\n",
            " [    40  78000]\n",
            " [    46  59000]\n",
            " [    59  42000]\n",
            " [    46  74000]\n",
            " [    35  91000]\n",
            " [    28  59000]\n",
            " [    40  57000]\n",
            " [    59 143000]\n",
            " [    57  26000]\n",
            " [    52  38000]\n",
            " [    47 113000]\n",
            " [    53 143000]\n",
            " [    35  27000]\n",
            " [    58 101000]\n",
            " [    45  45000]\n",
            " [    23  82000]\n",
            " [    46  23000]\n",
            " [    42  65000]\n",
            " [    28  84000]\n",
            " [    38  59000]\n",
            " [    26  84000]\n",
            " [    29  28000]\n",
            " [    37  71000]\n",
            " [    22  55000]\n",
            " [    48  35000]\n",
            " [    49  28000]\n",
            " [    38  65000]\n",
            " [    27  17000]\n",
            " [    46  28000]\n",
            " [    48 141000]\n",
            " [    26  17000]\n",
            " [    35  97000]\n",
            " [    39  59000]\n",
            " [    24  27000]\n",
            " [    32  18000]\n",
            " [    46  88000]\n",
            " [    35  58000]\n",
            " [    56  60000]\n",
            " [    47  34000]\n",
            " [    40  72000]\n",
            " [    32 100000]\n",
            " [    19  21000]\n",
            " [    25  90000]\n",
            " [    35  88000]\n",
            " [    28  32000]\n",
            " [    50  20000]\n",
            " [    40  59000]\n",
            " [    50  44000]\n",
            " [    35  72000]\n",
            " [    40 142000]\n",
            " [    46  32000]\n",
            " [    39  71000]\n",
            " [    20  74000]\n",
            " [    29  75000]\n",
            " [    31  76000]\n",
            " [    47  25000]\n",
            " [    40  61000]\n",
            " [    34 112000]\n",
            " [    38  80000]\n",
            " [    42  75000]\n",
            " [    47  47000]\n",
            " [    39  75000]\n",
            " [    19  25000]\n",
            " [    37  80000]\n",
            " [    36  60000]\n",
            " [    41  52000]\n",
            " [    36 125000]\n",
            " [    48  29000]\n",
            " [    36 126000]\n",
            " [    51 134000]\n",
            " [    27  57000]\n",
            " [    38  71000]\n",
            " [    39  61000]\n",
            " [    22  27000]\n",
            " [    33  60000]\n",
            " [    48  74000]\n",
            " [    58  23000]\n",
            " [    53  72000]\n",
            " [    32 117000]\n",
            " [    54  70000]\n",
            " [    30  80000]\n",
            " [    58  95000]\n",
            " [    26  52000]\n",
            " [    45  79000]\n",
            " [    24  55000]\n",
            " [    40  75000]\n",
            " [    33  28000]\n",
            " [    44 139000]\n",
            " [    22  18000]\n",
            " [    33  51000]\n",
            " [    43 133000]\n",
            " [    24  32000]\n",
            " [    46  22000]\n",
            " [    35  55000]\n",
            " [    54 104000]\n",
            " [    48 119000]\n",
            " [    35  53000]\n",
            " [    37 144000]\n",
            " [    23  66000]\n",
            " [    37 137000]\n",
            " [    31  58000]\n",
            " [    33  41000]\n",
            " [    45  22000]\n",
            " [    30  15000]\n",
            " [    19  19000]\n",
            " [    49  74000]\n",
            " [    39 122000]\n",
            " [    35  73000]\n",
            " [    39  71000]\n",
            " [    24  23000]\n",
            " [    41  72000]\n",
            " [    29  83000]\n",
            " [    54  26000]\n",
            " [    35  44000]\n",
            " [    37  75000]\n",
            " [    29  47000]\n",
            " [    31  68000]\n",
            " [    42  54000]\n",
            " [    30 135000]\n",
            " [    52 114000]\n",
            " [    50  36000]\n",
            " [    56 133000]\n",
            " [    29  61000]\n",
            " [    30  89000]\n",
            " [    26  16000]\n",
            " [    33  31000]\n",
            " [    41  72000]\n",
            " [    36  33000]\n",
            " [    55 125000]\n",
            " [    48 131000]\n",
            " [    41  71000]\n",
            " [    30  62000]\n",
            " [    37  72000]\n",
            " [    41  63000]\n",
            " [    58  47000]\n",
            " [    30 116000]\n",
            " [    20  49000]\n",
            " [    37  74000]\n",
            " [    41  59000]\n",
            " [    49  89000]\n",
            " [    28  79000]\n",
            " [    53  82000]\n",
            " [    40  57000]\n",
            " [    60  34000]\n",
            " [    35 108000]\n",
            " [    21  72000]\n",
            " [    38  71000]\n",
            " [    39 106000]\n",
            " [    37  57000]\n",
            " [    26  72000]\n",
            " [    35  23000]\n",
            " [    54 108000]\n",
            " [    30  17000]\n",
            " [    39 134000]\n",
            " [    29  43000]\n",
            " [    33  43000]\n",
            " [    35  38000]\n",
            " [    41  45000]\n",
            " [    41  72000]\n",
            " [    39 134000]\n",
            " [    27 137000]\n",
            " [    21  16000]\n",
            " [    26  32000]\n",
            " [    31  66000]\n",
            " [    39  73000]\n",
            " [    41  79000]\n",
            " [    47  50000]\n",
            " [    41  30000]\n",
            " [    37  93000]\n",
            " [    60  46000]\n",
            " [    25  22000]\n",
            " [    28  37000]\n",
            " [    38  55000]\n",
            " [    36  54000]\n",
            " [    20  36000]\n",
            " [    56 104000]\n",
            " [    40  57000]\n",
            " [    42 108000]\n",
            " [    20  23000]\n",
            " [    40  65000]\n",
            " [    47  20000]\n",
            " [    18  86000]\n",
            " [    35  79000]\n",
            " [    57  33000]\n",
            " [    34  72000]\n",
            " [    49  39000]\n",
            " [    27  31000]\n",
            " [    19  70000]\n",
            " [    39  79000]\n",
            " [    26  81000]\n",
            " [    25  80000]\n",
            " [    28  85000]\n",
            " [    55  39000]\n",
            " [    50  88000]\n",
            " [    49  88000]\n",
            " [    52 150000]\n",
            " [    35  65000]\n",
            " [    42  54000]\n",
            " [    34  43000]\n",
            " [    37  52000]\n",
            " [    48  30000]\n",
            " [    29  43000]\n",
            " [    36  52000]\n",
            " [    27  54000]\n",
            " [    26 118000]]\n"
          ]
        }
      ]
    },
    {
      "cell_type": "code",
      "metadata": {
        "id": "8dpDLojm1mVG",
        "outputId": "26728efe-b323-4ede-af39-1ace2c503631",
        "colab": {
          "base_uri": "https://localhost:8080/"
        }
      },
      "source": [
        "print(y_train)"
      ],
      "execution_count": 78,
      "outputs": [
        {
          "output_type": "stream",
          "name": "stdout",
          "text": [
            "[0 1 0 1 1 1 0 0 0 0 0 0 1 1 1 0 1 0 0 1 0 1 0 1 0 0 1 1 1 1 0 1 0 1 0 0 1\n",
            " 0 0 1 0 0 0 0 0 1 1 1 1 0 0 0 1 0 1 0 1 0 0 1 0 0 0 1 0 0 0 1 1 0 0 1 0 1\n",
            " 1 1 0 0 1 1 0 0 1 1 0 1 0 0 1 1 0 1 1 1 0 0 0 0 0 1 0 0 1 1 1 1 1 0 1 1 0\n",
            " 1 0 0 0 0 0 0 0 1 1 0 0 1 0 0 1 0 0 0 1 0 1 1 0 1 0 0 0 0 1 0 0 0 1 1 0 0\n",
            " 0 0 1 0 1 0 0 0 1 0 0 0 0 1 1 1 0 0 0 0 0 0 1 1 1 1 1 0 1 0 0 0 0 0 1 0 0\n",
            " 0 0 0 0 1 1 0 1 0 1 0 0 1 0 0 0 1 0 0 0 0 0 1 0 0 0 0 0 1 0 1 1 0 0 0 0 0\n",
            " 0 1 1 0 0 0 0 1 0 0 0 0 1 0 1 0 1 0 0 0 1 0 0 0 1 0 1 0 0 0 0 0 1 1 0 0 0\n",
            " 0 0 1 0 1 1 0 0 0 0 0 1 0 1 0 0 1 0 0 1 0 1 0 0 0 0 0 0 1 1 1 1 0 0 0 0 1\n",
            " 0 0 0 0]\n"
          ]
        }
      ]
    },
    {
      "cell_type": "code",
      "metadata": {
        "id": "qbb7i0DH1qui",
        "outputId": "2ca39ea3-64fc-4974-cabb-e758210ee8e8",
        "colab": {
          "base_uri": "https://localhost:8080/"
        }
      },
      "source": [
        "print(X_test)"
      ],
      "execution_count": 79,
      "outputs": [
        {
          "output_type": "stream",
          "name": "stdout",
          "text": [
            "[[    30  87000]\n",
            " [    38  50000]\n",
            " [    35  75000]\n",
            " [    30  79000]\n",
            " [    35  50000]\n",
            " [    27  20000]\n",
            " [    31  15000]\n",
            " [    36 144000]\n",
            " [    18  68000]\n",
            " [    47  43000]\n",
            " [    30  49000]\n",
            " [    28  55000]\n",
            " [    37  55000]\n",
            " [    39  77000]\n",
            " [    20  86000]\n",
            " [    32 117000]\n",
            " [    37  77000]\n",
            " [    19  85000]\n",
            " [    55 130000]\n",
            " [    35  22000]\n",
            " [    35  47000]\n",
            " [    47 144000]\n",
            " [    41  51000]\n",
            " [    47 105000]\n",
            " [    23  28000]\n",
            " [    49 141000]\n",
            " [    28  87000]\n",
            " [    29  80000]\n",
            " [    37  62000]\n",
            " [    32  86000]\n",
            " [    21  88000]\n",
            " [    37  79000]\n",
            " [    57  60000]\n",
            " [    37  53000]\n",
            " [    24  58000]\n",
            " [    18  52000]\n",
            " [    22  81000]\n",
            " [    34  43000]\n",
            " [    31  34000]\n",
            " [    49  36000]\n",
            " [    27  88000]\n",
            " [    41  52000]\n",
            " [    27  84000]\n",
            " [    35  20000]\n",
            " [    43 112000]\n",
            " [    27  58000]\n",
            " [    37  80000]\n",
            " [    52  90000]\n",
            " [    26  30000]\n",
            " [    49  86000]\n",
            " [    57 122000]\n",
            " [    34  25000]\n",
            " [    35  57000]\n",
            " [    34 115000]\n",
            " [    59  88000]\n",
            " [    45  32000]\n",
            " [    29  83000]\n",
            " [    26  80000]\n",
            " [    49  28000]\n",
            " [    23  20000]\n",
            " [    32  18000]\n",
            " [    60  42000]\n",
            " [    19  76000]\n",
            " [    36  99000]\n",
            " [    19  26000]\n",
            " [    60  83000]\n",
            " [    24  89000]\n",
            " [    27  58000]\n",
            " [    40  47000]\n",
            " [    42  70000]\n",
            " [    32 150000]\n",
            " [    35  77000]\n",
            " [    22  63000]\n",
            " [    45  22000]\n",
            " [    27  89000]\n",
            " [    18  82000]\n",
            " [    42  79000]\n",
            " [    40  60000]\n",
            " [    53  34000]\n",
            " [    47 107000]\n",
            " [    58 144000]\n",
            " [    59  83000]\n",
            " [    24  55000]\n",
            " [    26  35000]\n",
            " [    58  38000]\n",
            " [    42  80000]\n",
            " [    40  75000]\n",
            " [    59 130000]\n",
            " [    46  41000]\n",
            " [    41  60000]\n",
            " [    42  64000]\n",
            " [    37 146000]\n",
            " [    23  48000]\n",
            " [    25  33000]\n",
            " [    24  84000]\n",
            " [    27  96000]\n",
            " [    23  63000]\n",
            " [    48  33000]\n",
            " [    48  90000]\n",
            " [    42 104000]]\n"
          ]
        }
      ]
    },
    {
      "cell_type": "code",
      "metadata": {
        "id": "kj1hnFAR1s5w",
        "outputId": "34834512-98fa-45fb-d9f3-2330b169d4a9",
        "colab": {
          "base_uri": "https://localhost:8080/"
        }
      },
      "source": [
        "print(y_test)"
      ],
      "execution_count": 80,
      "outputs": [
        {
          "output_type": "stream",
          "name": "stdout",
          "text": [
            "[0 0 0 0 0 0 0 1 0 0 0 0 0 0 0 0 0 0 1 0 0 1 0 1 0 1 0 0 0 0 0 1 1 0 0 0 0\n",
            " 0 0 1 0 0 0 0 1 0 0 1 0 1 1 0 0 0 1 1 0 0 1 0 0 1 0 1 0 1 0 0 0 0 1 0 0 1\n",
            " 0 0 0 0 1 1 1 0 0 0 1 1 0 1 1 0 0 1 0 0 0 1 0 1 1 1]\n"
          ]
        }
      ]
    },
    {
      "cell_type": "markdown",
      "metadata": {
        "id": "kW3c7UYih0hT"
      },
      "source": [
        "## Feature Scaling"
      ]
    },
    {
      "cell_type": "code",
      "metadata": {
        "id": "9fQlDPKCh8sc"
      },
      "source": [
        "from sklearn.preprocessing import StandardScaler\n",
        "sc = StandardScaler()\n",
        "X_train = sc.fit_transform(X_train)\n",
        "X_test = sc.fit_transform(X_test)"
      ],
      "execution_count": 81,
      "outputs": []
    },
    {
      "cell_type": "code",
      "metadata": {
        "id": "syrnD1Op2BSR",
        "outputId": "76ddd7cf-4962-4293-9252-fbc8af558d9c",
        "colab": {
          "base_uri": "https://localhost:8080/"
        }
      },
      "source": [
        "print(X_train)"
      ],
      "execution_count": 82,
      "outputs": [
        {
          "output_type": "stream",
          "name": "stdout",
          "text": [
            "[[ 0.58 -0.89]\n",
            " [-0.61  1.46]\n",
            " [-0.01 -0.57]\n",
            " [-0.61  1.9 ]\n",
            " [ 1.37 -1.41]\n",
            " [ 1.47  1.  ]\n",
            " [ 0.09 -0.8 ]\n",
            " [-0.01 -0.25]\n",
            " [-0.21 -0.57]\n",
            " [-0.21 -0.19]\n",
            " [-0.31 -1.29]\n",
            " [-0.31 -0.57]\n",
            " [ 0.38  0.1 ]\n",
            " [ 0.88 -0.6 ]\n",
            " [ 2.07 -1.18]\n",
            " [ 1.08 -0.13]\n",
            " [ 0.68  1.78]\n",
            " [-0.71  0.56]\n",
            " [ 0.78  0.36]\n",
            " [ 0.88 -0.54]\n",
            " [-1.2  -1.58]\n",
            " [ 2.17  0.94]\n",
            " [-0.01  1.23]\n",
            " [ 0.19  1.08]\n",
            " [ 0.38 -0.48]\n",
            " [-0.31 -0.31]\n",
            " [ 0.98 -0.83]\n",
            " [ 0.98  1.87]\n",
            " [-0.01  1.26]\n",
            " [-0.9   2.27]\n",
            " [-1.2  -1.58]\n",
            " [ 2.17 -0.8 ]\n",
            " [-1.4  -1.47]\n",
            " [ 0.38  2.3 ]\n",
            " [ 0.78  0.77]\n",
            " [-1.   -0.31]\n",
            " [ 0.09  0.77]\n",
            " [-1.    0.56]\n",
            " [ 0.28  0.07]\n",
            " [ 0.68 -1.26]\n",
            " [-0.51 -0.02]\n",
            " [-1.8   0.36]\n",
            " [-0.71  0.13]\n",
            " [ 0.38  0.3 ]\n",
            " [-0.31  0.07]\n",
            " [-0.51  2.3 ]\n",
            " [ 0.19  0.04]\n",
            " [ 1.27  2.22]\n",
            " [ 0.78  0.27]\n",
            " [-0.31  0.16]\n",
            " [-0.01 -0.54]\n",
            " [-0.21  0.16]\n",
            " [-0.11  0.24]\n",
            " [-0.01 -0.25]\n",
            " [ 2.17  1.11]\n",
            " [-1.8   0.36]\n",
            " [ 1.87  0.13]\n",
            " [ 0.38 -0.13]\n",
            " [-1.2   0.3 ]\n",
            " [ 0.78  1.37]\n",
            " [-0.31 -0.25]\n",
            " [-1.7  -0.05]\n",
            " [-1.   -0.74]\n",
            " [ 0.28  0.5 ]\n",
            " [-0.11 -1.06]\n",
            " [-1.1   0.59]\n",
            " [ 0.09 -0.8 ]\n",
            " [-1.    1.55]\n",
            " [-0.71  1.4 ]\n",
            " [-1.3   0.5 ]\n",
            " [-0.31  0.04]\n",
            " [-0.11  0.01]\n",
            " [-0.31 -0.89]\n",
            " [ 0.88 -1.35]\n",
            " [-0.31  2.24]\n",
            " [ 0.98  1.98]\n",
            " [-1.2   0.48]\n",
            " [-1.3   0.27]\n",
            " [ 1.37  1.98]\n",
            " [ 1.27 -1.35]\n",
            " [-0.31 -0.28]\n",
            " [-0.51  1.26]\n",
            " [-0.8   1.08]\n",
            " [ 0.98 -1.06]\n",
            " [ 0.28  0.3 ]\n",
            " [ 0.98  0.77]\n",
            " [-0.71 -1.5 ]\n",
            " [-0.71  0.04]\n",
            " [ 0.48  1.72]\n",
            " [ 2.07  0.19]\n",
            " [-1.99 -0.74]\n",
            " [-0.21  1.4 ]\n",
            " [ 0.38  0.59]\n",
            " [ 0.88 -1.15]\n",
            " [-1.2  -0.77]\n",
            " [ 0.19  0.24]\n",
            " [ 0.78 -0.31]\n",
            " [ 2.07 -0.8 ]\n",
            " [ 0.78  0.13]\n",
            " [-0.31  0.62]\n",
            " [-1.   -0.31]\n",
            " [ 0.19 -0.36]\n",
            " [ 2.07  2.13]\n",
            " [ 1.87 -1.26]\n",
            " [ 1.37 -0.92]\n",
            " [ 0.88  1.26]\n",
            " [ 1.47  2.13]\n",
            " [-0.31 -1.23]\n",
            " [ 1.97  0.91]\n",
            " [ 0.68 -0.71]\n",
            " [-1.5   0.36]\n",
            " [ 0.78 -1.35]\n",
            " [ 0.38 -0.13]\n",
            " [-1.    0.42]\n",
            " [-0.01 -0.31]\n",
            " [-1.2   0.42]\n",
            " [-0.9  -1.21]\n",
            " [-0.11  0.04]\n",
            " [-1.6  -0.42]\n",
            " [ 0.98 -1.  ]\n",
            " [ 1.08 -1.21]\n",
            " [-0.01 -0.13]\n",
            " [-1.1  -1.52]\n",
            " [ 0.78 -1.21]\n",
            " [ 0.98  2.07]\n",
            " [-1.2  -1.52]\n",
            " [-0.31  0.79]\n",
            " [ 0.09 -0.31]\n",
            " [-1.4  -1.23]\n",
            " [-0.61 -1.5 ]\n",
            " [ 0.78  0.53]\n",
            " [-0.31 -0.34]\n",
            " [ 1.77 -0.28]\n",
            " [ 0.88 -1.03]\n",
            " [ 0.19  0.07]\n",
            " [-0.61  0.88]\n",
            " [-1.89 -1.41]\n",
            " [-1.3   0.59]\n",
            " [-0.31  0.53]\n",
            " [-1.   -1.09]\n",
            " [ 1.18 -1.44]\n",
            " [ 0.19 -0.31]\n",
            " [ 1.18 -0.74]\n",
            " [-0.31  0.07]\n",
            " [ 0.19  2.1 ]\n",
            " [ 0.78 -1.09]\n",
            " [ 0.09  0.04]\n",
            " [-1.8   0.13]\n",
            " [-0.9   0.16]\n",
            " [-0.71  0.19]\n",
            " [ 0.88 -1.29]\n",
            " [ 0.19 -0.25]\n",
            " [-0.41  1.23]\n",
            " [-0.01  0.3 ]\n",
            " [ 0.38  0.16]\n",
            " [ 0.88 -0.65]\n",
            " [ 0.09  0.16]\n",
            " [-1.89 -1.29]\n",
            " [-0.11  0.3 ]\n",
            " [-0.21 -0.28]\n",
            " [ 0.28 -0.51]\n",
            " [-0.21  1.61]\n",
            " [ 0.98 -1.18]\n",
            " [-0.21  1.64]\n",
            " [ 1.27  1.87]\n",
            " [-1.1  -0.36]\n",
            " [-0.01  0.04]\n",
            " [ 0.09 -0.25]\n",
            " [-1.6  -1.23]\n",
            " [-0.51 -0.28]\n",
            " [ 0.98  0.13]\n",
            " [ 1.97 -1.35]\n",
            " [ 1.47  0.07]\n",
            " [-0.61  1.37]\n",
            " [ 1.57  0.01]\n",
            " [-0.8   0.3 ]\n",
            " [ 1.97  0.74]\n",
            " [-1.2  -0.51]\n",
            " [ 0.68  0.27]\n",
            " [-1.4  -0.42]\n",
            " [ 0.19  0.16]\n",
            " [-0.51 -1.21]\n",
            " [ 0.58  2.01]\n",
            " [-1.6  -1.5 ]\n",
            " [-0.51 -0.54]\n",
            " [ 0.48  1.84]\n",
            " [-1.4  -1.09]\n",
            " [ 0.78 -1.38]\n",
            " [-0.31 -0.42]\n",
            " [ 1.57  1.  ]\n",
            " [ 0.98  1.43]\n",
            " [-0.31 -0.48]\n",
            " [-0.11  2.16]\n",
            " [-1.5  -0.1 ]\n",
            " [-0.11  1.95]\n",
            " [-0.71 -0.34]\n",
            " [-0.51 -0.83]\n",
            " [ 0.68 -1.38]\n",
            " [-0.8  -1.58]\n",
            " [-1.89 -1.47]\n",
            " [ 1.08  0.13]\n",
            " [ 0.09  1.52]\n",
            " [-0.31  0.1 ]\n",
            " [ 0.09  0.04]\n",
            " [-1.4  -1.35]\n",
            " [ 0.28  0.07]\n",
            " [-0.9   0.39]\n",
            " [ 1.57 -1.26]\n",
            " [-0.31 -0.74]\n",
            " [-0.11  0.16]\n",
            " [-0.9  -0.65]\n",
            " [-0.71 -0.05]\n",
            " [ 0.38 -0.45]\n",
            " [-0.8   1.9 ]\n",
            " [ 1.37  1.29]\n",
            " [ 1.18 -0.97]\n",
            " [ 1.77  1.84]\n",
            " [-0.9  -0.25]\n",
            " [-0.8   0.56]\n",
            " [-1.2  -1.55]\n",
            " [-0.51 -1.12]\n",
            " [ 0.28  0.07]\n",
            " [-0.21 -1.06]\n",
            " [ 1.67  1.61]\n",
            " [ 0.98  1.78]\n",
            " [ 0.28  0.04]\n",
            " [-0.8  -0.22]\n",
            " [-0.11  0.07]\n",
            " [ 0.28 -0.19]\n",
            " [ 1.97 -0.65]\n",
            " [-0.8   1.35]\n",
            " [-1.8  -0.6 ]\n",
            " [-0.11  0.13]\n",
            " [ 0.28 -0.31]\n",
            " [ 1.08  0.56]\n",
            " [-1.    0.27]\n",
            " [ 1.47  0.36]\n",
            " [ 0.19 -0.36]\n",
            " [ 2.17 -1.03]\n",
            " [-0.31  1.11]\n",
            " [-1.7   0.07]\n",
            " [-0.01  0.04]\n",
            " [ 0.09  1.06]\n",
            " [-0.11 -0.36]\n",
            " [-1.2   0.07]\n",
            " [-0.31 -1.35]\n",
            " [ 1.57  1.11]\n",
            " [-0.8  -1.52]\n",
            " [ 0.09  1.87]\n",
            " [-0.9  -0.77]\n",
            " [-0.51 -0.77]\n",
            " [-0.31 -0.92]\n",
            " [ 0.28 -0.71]\n",
            " [ 0.28  0.07]\n",
            " [ 0.09  1.87]\n",
            " [-1.1   1.95]\n",
            " [-1.7  -1.55]\n",
            " [-1.2  -1.09]\n",
            " [-0.71 -0.1 ]\n",
            " [ 0.09  0.1 ]\n",
            " [ 0.28  0.27]\n",
            " [ 0.88 -0.57]\n",
            " [ 0.28 -1.15]\n",
            " [-0.11  0.68]\n",
            " [ 2.17 -0.68]\n",
            " [-1.3  -1.38]\n",
            " [-1.   -0.94]\n",
            " [-0.01 -0.42]\n",
            " [-0.21 -0.45]\n",
            " [-1.8  -0.97]\n",
            " [ 1.77  1.  ]\n",
            " [ 0.19 -0.36]\n",
            " [ 0.38  1.11]\n",
            " [-1.8  -1.35]\n",
            " [ 0.19 -0.13]\n",
            " [ 0.88 -1.44]\n",
            " [-1.99  0.48]\n",
            " [-0.31  0.27]\n",
            " [ 1.87 -1.06]\n",
            " [-0.41  0.07]\n",
            " [ 1.08 -0.89]\n",
            " [-1.1  -1.12]\n",
            " [-1.89  0.01]\n",
            " [ 0.09  0.27]\n",
            " [-1.2   0.33]\n",
            " [-1.3   0.3 ]\n",
            " [-1.    0.45]\n",
            " [ 1.67 -0.89]\n",
            " [ 1.18  0.53]\n",
            " [ 1.08  0.53]\n",
            " [ 1.37  2.33]\n",
            " [-0.31 -0.13]\n",
            " [ 0.38 -0.45]\n",
            " [-0.41 -0.77]\n",
            " [-0.11 -0.51]\n",
            " [ 0.98 -1.15]\n",
            " [-0.9  -0.77]\n",
            " [-0.21 -0.51]\n",
            " [-1.1  -0.45]\n",
            " [-1.2   1.4 ]]\n"
          ]
        }
      ]
    },
    {
      "cell_type": "code",
      "metadata": {
        "id": "JUd6iBRp2C3L",
        "outputId": "b8196487-d08e-4008-8c40-084f3ab957db",
        "colab": {
          "base_uri": "https://localhost:8080/"
        }
      },
      "source": [
        "print(X_test)"
      ],
      "execution_count": 83,
      "outputs": [
        {
          "output_type": "stream",
          "name": "stdout",
          "text": [
            "[[-0.55  0.51]\n",
            " [ 0.15 -0.62]\n",
            " [-0.11  0.15]\n",
            " [-0.55  0.27]\n",
            " [-0.11 -0.62]\n",
            " [-0.81 -1.54]\n",
            " [-0.46 -1.69]\n",
            " [-0.02  2.26]\n",
            " [-1.6  -0.07]\n",
            " [ 0.94 -0.83]\n",
            " [-0.55 -0.65]\n",
            " [-0.72 -0.47]\n",
            " [ 0.07 -0.47]\n",
            " [ 0.24  0.21]\n",
            " [-1.42  0.48]\n",
            " [-0.37  1.43]\n",
            " [ 0.07  0.21]\n",
            " [-1.51  0.45]\n",
            " [ 1.65  1.83]\n",
            " [-0.11 -1.47]\n",
            " [-0.11 -0.71]\n",
            " [ 0.94  2.26]\n",
            " [ 0.42 -0.59]\n",
            " [ 0.94  1.06]\n",
            " [-1.16 -1.29]\n",
            " [ 1.12  2.16]\n",
            " [-0.72  0.51]\n",
            " [-0.64  0.3 ]\n",
            " [ 0.07 -0.25]\n",
            " [-0.37  0.48]\n",
            " [-1.34  0.54]\n",
            " [ 0.07  0.27]\n",
            " [ 1.82 -0.31]\n",
            " [ 0.07 -0.53]\n",
            " [-1.07 -0.37]\n",
            " [-1.6  -0.56]\n",
            " [-1.25  0.33]\n",
            " [-0.2  -0.83]\n",
            " [-0.46 -1.11]\n",
            " [ 1.12 -1.05]\n",
            " [-0.81  0.54]\n",
            " [ 0.42 -0.56]\n",
            " [-0.81  0.42]\n",
            " [-0.11 -1.54]\n",
            " [ 0.59  1.28]\n",
            " [-0.81 -0.37]\n",
            " [ 0.07  0.3 ]\n",
            " [ 1.38  0.6 ]\n",
            " [-0.9  -1.23]\n",
            " [ 1.12  0.48]\n",
            " [ 1.82  1.58]\n",
            " [-0.2  -1.38]\n",
            " [-0.11 -0.4 ]\n",
            " [-0.2   1.37]\n",
            " [ 2.    0.54]\n",
            " [ 0.77 -1.17]\n",
            " [-0.64  0.39]\n",
            " [-0.9   0.3 ]\n",
            " [ 1.12 -1.29]\n",
            " [-1.16 -1.54]\n",
            " [-0.37 -1.6 ]\n",
            " [ 2.08 -0.86]\n",
            " [-1.51  0.18]\n",
            " [-0.02  0.88]\n",
            " [-1.51 -1.35]\n",
            " [ 2.08  0.39]\n",
            " [-1.07  0.57]\n",
            " [-0.81 -0.37]\n",
            " [ 0.33 -0.71]\n",
            " [ 0.51 -0.01]\n",
            " [-0.37  2.44]\n",
            " [-0.11  0.21]\n",
            " [-1.25 -0.22]\n",
            " [ 0.77 -1.47]\n",
            " [-0.81  0.57]\n",
            " [-1.6   0.36]\n",
            " [ 0.51  0.27]\n",
            " [ 0.33 -0.31]\n",
            " [ 1.47 -1.11]\n",
            " [ 0.94  1.12]\n",
            " [ 1.91  2.26]\n",
            " [ 2.    0.39]\n",
            " [-1.07 -0.47]\n",
            " [-0.9  -1.08]\n",
            " [ 1.91 -0.99]\n",
            " [ 0.51  0.3 ]\n",
            " [ 0.33  0.15]\n",
            " [ 2.    1.83]\n",
            " [ 0.86 -0.89]\n",
            " [ 0.42 -0.31]\n",
            " [ 0.51 -0.19]\n",
            " [ 0.07  2.32]\n",
            " [-1.16 -0.68]\n",
            " [-0.99 -1.14]\n",
            " [-1.07  0.42]\n",
            " [-0.81  0.79]\n",
            " [-1.16 -0.22]\n",
            " [ 1.03 -1.14]\n",
            " [ 1.03  0.6 ]\n",
            " [ 0.51  1.03]]\n"
          ]
        }
      ]
    },
    {
      "cell_type": "markdown",
      "metadata": {
        "id": "bb6jCOCQiAmP"
      },
      "source": [
        "## Training the Logistic Regression model on the Training set"
      ]
    },
    {
      "cell_type": "code",
      "source": [
        "from sklearn.linear_model import LogisticRegression\n",
        "reg_ob = LogisticRegression(random_state=0)\n",
        "reg_ob.fit(X_train,y_train)"
      ],
      "metadata": {
        "id": "jh8Mj9oCC-Zz",
        "outputId": "2c8bce3e-1393-4dd6-b616-c70cb2c4712d",
        "colab": {
          "base_uri": "https://localhost:8080/",
          "height": 75
        }
      },
      "execution_count": 84,
      "outputs": [
        {
          "output_type": "execute_result",
          "data": {
            "text/plain": [
              "LogisticRegression(random_state=0)"
            ],
            "text/html": [
              "<style>#sk-container-id-5 {color: black;background-color: white;}#sk-container-id-5 pre{padding: 0;}#sk-container-id-5 div.sk-toggleable {background-color: white;}#sk-container-id-5 label.sk-toggleable__label {cursor: pointer;display: block;width: 100%;margin-bottom: 0;padding: 0.3em;box-sizing: border-box;text-align: center;}#sk-container-id-5 label.sk-toggleable__label-arrow:before {content: \"▸\";float: left;margin-right: 0.25em;color: #696969;}#sk-container-id-5 label.sk-toggleable__label-arrow:hover:before {color: black;}#sk-container-id-5 div.sk-estimator:hover label.sk-toggleable__label-arrow:before {color: black;}#sk-container-id-5 div.sk-toggleable__content {max-height: 0;max-width: 0;overflow: hidden;text-align: left;background-color: #f0f8ff;}#sk-container-id-5 div.sk-toggleable__content pre {margin: 0.2em;color: black;border-radius: 0.25em;background-color: #f0f8ff;}#sk-container-id-5 input.sk-toggleable__control:checked~div.sk-toggleable__content {max-height: 200px;max-width: 100%;overflow: auto;}#sk-container-id-5 input.sk-toggleable__control:checked~label.sk-toggleable__label-arrow:before {content: \"▾\";}#sk-container-id-5 div.sk-estimator input.sk-toggleable__control:checked~label.sk-toggleable__label {background-color: #d4ebff;}#sk-container-id-5 div.sk-label input.sk-toggleable__control:checked~label.sk-toggleable__label {background-color: #d4ebff;}#sk-container-id-5 input.sk-hidden--visually {border: 0;clip: rect(1px 1px 1px 1px);clip: rect(1px, 1px, 1px, 1px);height: 1px;margin: -1px;overflow: hidden;padding: 0;position: absolute;width: 1px;}#sk-container-id-5 div.sk-estimator {font-family: monospace;background-color: #f0f8ff;border: 1px dotted black;border-radius: 0.25em;box-sizing: border-box;margin-bottom: 0.5em;}#sk-container-id-5 div.sk-estimator:hover {background-color: #d4ebff;}#sk-container-id-5 div.sk-parallel-item::after {content: \"\";width: 100%;border-bottom: 1px solid gray;flex-grow: 1;}#sk-container-id-5 div.sk-label:hover label.sk-toggleable__label {background-color: #d4ebff;}#sk-container-id-5 div.sk-serial::before {content: \"\";position: absolute;border-left: 1px solid gray;box-sizing: border-box;top: 0;bottom: 0;left: 50%;z-index: 0;}#sk-container-id-5 div.sk-serial {display: flex;flex-direction: column;align-items: center;background-color: white;padding-right: 0.2em;padding-left: 0.2em;position: relative;}#sk-container-id-5 div.sk-item {position: relative;z-index: 1;}#sk-container-id-5 div.sk-parallel {display: flex;align-items: stretch;justify-content: center;background-color: white;position: relative;}#sk-container-id-5 div.sk-item::before, #sk-container-id-5 div.sk-parallel-item::before {content: \"\";position: absolute;border-left: 1px solid gray;box-sizing: border-box;top: 0;bottom: 0;left: 50%;z-index: -1;}#sk-container-id-5 div.sk-parallel-item {display: flex;flex-direction: column;z-index: 1;position: relative;background-color: white;}#sk-container-id-5 div.sk-parallel-item:first-child::after {align-self: flex-end;width: 50%;}#sk-container-id-5 div.sk-parallel-item:last-child::after {align-self: flex-start;width: 50%;}#sk-container-id-5 div.sk-parallel-item:only-child::after {width: 0;}#sk-container-id-5 div.sk-dashed-wrapped {border: 1px dashed gray;margin: 0 0.4em 0.5em 0.4em;box-sizing: border-box;padding-bottom: 0.4em;background-color: white;}#sk-container-id-5 div.sk-label label {font-family: monospace;font-weight: bold;display: inline-block;line-height: 1.2em;}#sk-container-id-5 div.sk-label-container {text-align: center;}#sk-container-id-5 div.sk-container {/* jupyter's `normalize.less` sets `[hidden] { display: none; }` but bootstrap.min.css set `[hidden] { display: none !important; }` so we also need the `!important` here to be able to override the default hidden behavior on the sphinx rendered scikit-learn.org. See: https://github.com/scikit-learn/scikit-learn/issues/21755 */display: inline-block !important;position: relative;}#sk-container-id-5 div.sk-text-repr-fallback {display: none;}</style><div id=\"sk-container-id-5\" class=\"sk-top-container\"><div class=\"sk-text-repr-fallback\"><pre>LogisticRegression(random_state=0)</pre><b>In a Jupyter environment, please rerun this cell to show the HTML representation or trust the notebook. <br />On GitHub, the HTML representation is unable to render, please try loading this page with nbviewer.org.</b></div><div class=\"sk-container\" hidden><div class=\"sk-item\"><div class=\"sk-estimator sk-toggleable\"><input class=\"sk-toggleable__control sk-hidden--visually\" id=\"sk-estimator-id-5\" type=\"checkbox\" checked><label for=\"sk-estimator-id-5\" class=\"sk-toggleable__label sk-toggleable__label-arrow\">LogisticRegression</label><div class=\"sk-toggleable__content\"><pre>LogisticRegression(random_state=0)</pre></div></div></div></div></div>"
            ]
          },
          "metadata": {},
          "execution_count": 84
        }
      ]
    },
    {
      "cell_type": "markdown",
      "metadata": {
        "id": "yyxW5b395mR2"
      },
      "source": [
        "## Predicting a new result"
      ]
    },
    {
      "cell_type": "code",
      "source": [
        "print(reg_ob.predict(sc.transform([[30,87000]])))"
      ],
      "metadata": {
        "id": "OqwAgY2JC-ql",
        "outputId": "31859124-f766-42a3-e82b-8a3925d37b44",
        "colab": {
          "base_uri": "https://localhost:8080/"
        }
      },
      "execution_count": 85,
      "outputs": [
        {
          "output_type": "stream",
          "name": "stdout",
          "text": [
            "[0]\n"
          ]
        }
      ]
    },
    {
      "cell_type": "markdown",
      "metadata": {
        "id": "vKYVQH-l5NpE"
      },
      "source": [
        "## Predicting the Test set results"
      ]
    },
    {
      "cell_type": "code",
      "source": [
        "y_pred=reg_ob.predict(X_test)\n",
        "np.set_printoptions(precision=2)\n",
        "print(np.concatenate((y_pred.reshape(len(y_pred),1),y_test.reshape(len(y_test),1)),1))"
      ],
      "metadata": {
        "id": "nbgk4ebHC-5W",
        "outputId": "6719a316-bf4f-4798-87f0-63498608b80f",
        "colab": {
          "base_uri": "https://localhost:8080/"
        }
      },
      "execution_count": 86,
      "outputs": [
        {
          "output_type": "stream",
          "name": "stdout",
          "text": [
            "[[0 0]\n",
            " [0 0]\n",
            " [0 0]\n",
            " [0 0]\n",
            " [0 0]\n",
            " [0 0]\n",
            " [0 0]\n",
            " [1 1]\n",
            " [0 0]\n",
            " [1 0]\n",
            " [0 0]\n",
            " [0 0]\n",
            " [0 0]\n",
            " [0 0]\n",
            " [0 0]\n",
            " [0 0]\n",
            " [0 0]\n",
            " [0 0]\n",
            " [1 1]\n",
            " [0 0]\n",
            " [0 0]\n",
            " [1 1]\n",
            " [0 0]\n",
            " [1 1]\n",
            " [0 0]\n",
            " [1 1]\n",
            " [0 0]\n",
            " [0 0]\n",
            " [0 0]\n",
            " [0 0]\n",
            " [0 0]\n",
            " [0 1]\n",
            " [1 1]\n",
            " [0 0]\n",
            " [0 0]\n",
            " [0 0]\n",
            " [0 0]\n",
            " [0 0]\n",
            " [0 0]\n",
            " [1 1]\n",
            " [0 0]\n",
            " [0 0]\n",
            " [0 0]\n",
            " [0 0]\n",
            " [1 1]\n",
            " [0 0]\n",
            " [0 0]\n",
            " [1 1]\n",
            " [0 0]\n",
            " [1 1]\n",
            " [1 1]\n",
            " [0 0]\n",
            " [0 0]\n",
            " [1 0]\n",
            " [1 1]\n",
            " [0 1]\n",
            " [0 0]\n",
            " [0 0]\n",
            " [0 1]\n",
            " [0 0]\n",
            " [0 0]\n",
            " [1 1]\n",
            " [0 0]\n",
            " [0 1]\n",
            " [0 0]\n",
            " [1 1]\n",
            " [0 0]\n",
            " [0 0]\n",
            " [0 0]\n",
            " [1 0]\n",
            " [1 1]\n",
            " [0 0]\n",
            " [0 0]\n",
            " [0 1]\n",
            " [0 0]\n",
            " [0 0]\n",
            " [1 0]\n",
            " [0 0]\n",
            " [1 1]\n",
            " [1 1]\n",
            " [1 1]\n",
            " [1 0]\n",
            " [0 0]\n",
            " [0 0]\n",
            " [1 1]\n",
            " [1 1]\n",
            " [0 0]\n",
            " [1 1]\n",
            " [0 1]\n",
            " [0 0]\n",
            " [0 0]\n",
            " [1 1]\n",
            " [0 0]\n",
            " [0 0]\n",
            " [0 0]\n",
            " [0 1]\n",
            " [0 0]\n",
            " [0 1]\n",
            " [1 1]\n",
            " [1 1]]\n"
          ]
        }
      ]
    },
    {
      "cell_type": "markdown",
      "metadata": {
        "id": "h4Hwj34ziWQW"
      },
      "source": [
        "## Making the Confusion Matrix"
      ]
    },
    {
      "cell_type": "code",
      "source": [
        "from sklearn.metrics import confusion_matrix, ConfusionMatrixDisplay, accuracy_score, precision_score\n",
        "import matplotlib.pyplot as plt\n",
        "CM = confusion_matrix(y_test,y_pred)\n",
        "disp = ConfusionMatrixDisplay(confusion_matrix=CM,display_labels=reg_ob.classes_)\n",
        "disp.plot()\n",
        "print(accuracy_score(y_test, y_pred))\n",
        "print(precision_score(y_test, y_pred))"
      ],
      "metadata": {
        "id": "IhR1b1d5C_OI",
        "outputId": "0fa86fef-3f9e-4be5-b22c-922512e6b3d8",
        "colab": {
          "base_uri": "https://localhost:8080/",
          "height": 485
        }
      },
      "execution_count": 87,
      "outputs": [
        {
          "output_type": "stream",
          "name": "stdout",
          "text": [
            "0.87\n",
            "0.8275862068965517\n"
          ]
        },
        {
          "output_type": "display_data",
          "data": {
            "text/plain": [
              "<Figure size 640x480 with 2 Axes>"
            ],
            "image/png": "[encoded data removed]"
          },
          "metadata": {}
        }
      ]
    },
    {
      "cell_type": "markdown",
      "metadata": {
        "id": "6OMC_P0diaoD"
      },
      "source": [
        "## Visualising the Training set results"
      ]
    },
    {
      "cell_type": "code",
      "source": [
        "from matplotlib.colors import ListedColormap\n",
        "X_set, y_set = sc.inverse_transform(X_train), y_train\n",
        "X1, X2 = np.meshgrid(np.arange(start = X_set[:, 0].min() - 10, stop = X_set[:, 0].max() + 10, step = 0.25),\n",
        "                     np.arange(start = X_set[:, 1].min() - 1000, stop = X_set[:, 1].max() + 1000, step = 0.25))\n",
        "plt.contourf(X1, X2, reg_ob.predict(sc.transform(np.array([X1.ravel(), X2.ravel()]).T)).reshape(X1.shape),\n",
        "             alpha = 0.75, cmap = ListedColormap(('red', 'green')))\n",
        "plt.xlim(X1.min(), X1.max())\n",
        "plt.ylim(X2.min(), X2.max())\n",
        "for i, j in enumerate(np.unique(y_set)):\n",
        "    plt.scatter(X_set[y_set == j, 0], X_set[y_set == j, 1], c = ListedColormap(('red', 'green'))(i), label = j)\n",
        "plt.title('Logistic Regression (Test set)')\n",
        "plt.xlabel('Age')\n",
        "plt.ylabel('Estimated Salary')\n",
        "plt.legend()\n",
        "plt.show()"
      ],
      "metadata": {
        "id": "OYutrULYC_cg",
        "outputId": "c1bec576-1d70-4e3e-a1e6-7f3a5cbd4ce0",
        "colab": {
          "base_uri": "https://localhost:8080/",
          "height": 528
        }
      },
      "execution_count": 90,
      "outputs": [
        {
          "output_type": "stream",
          "name": "stderr",
          "text": [
            "<ipython-input-90-8707ee6e36f6>:10: UserWarning: *c* argument looks like a single numeric RGB or RGBA sequence, which should be avoided as value-mapping will have precedence in case its length matches with *x* & *y*.  Please use the *color* keyword-argument or provide a 2D array with a single row if you intend to specify the same RGB or RGBA value for all points.\n",
            "  plt.scatter(X_set[y_set == j, 0], X_set[y_set == j, 1], c = ListedColormap(('red', 'green'))(i), label = j)\n"
          ]
        },
        {
          "output_type": "display_data",
          "data": {
            "text/plain": [
              "<Figure size 640x480 with 1 Axes>"
            ],
            "image/png": "[encoded data removed]"
          },
          "metadata": {}
        }
      ]
    },
    {
      "cell_type": "markdown",
      "metadata": {
        "id": "SZ-j28aPihZx"
      },
      "source": [
        "## Visualising the Test set results"
      ]
    },
    {
      "cell_type": "code",
      "source": [
        "from matplotlib.colors import ListedColormap\n",
        "X_set, y_set = sc.inverse_transform(X_test), y_test\n",
        "X1, X2 = np.meshgrid(np.arange(start = X_set[:, 0].min() - 10, stop = X_set[:, 0].max() + 10, step = 0.25),\n",
        "                     np.arange(start = X_set[:, 1].min() - 1000, stop = X_set[:, 1].max() + 1000, step = 0.25))\n",
        "plt.contourf(X1, X2, reg_ob.predict(sc.transform(np.array([X1.ravel(), X2.ravel()]).T)).reshape(X1.shape),\n",
        "             alpha = 0.75, cmap = ListedColormap(('red', 'green')))\n",
        "plt.xlim(X1.min(), X1.max())\n",
        "plt.ylim(X2.min(), X2.max())\n",
        "for i, j in enumerate(np.unique(y_set)):\n",
        "    plt.scatter(X_set[y_set == j, 0], X_set[y_set == j, 1], c = ListedColormap(('red', 'green'))(i), label = j)\n",
        "plt.title('Logistic Regression (Test set)')\n",
        "plt.xlabel('Age')\n",
        "plt.ylabel('Estimated Salary')\n",
        "plt.legend()\n",
        "plt.show()"
      ],
      "metadata": {
        "id": "_JOS5oDVC_v4",
        "outputId": "9b9508bc-718a-47b1-a1b6-030e04ec9c61",
        "colab": {
          "base_uri": "https://localhost:8080/",
          "height": 528
        }
      },
      "execution_count": 89,
      "outputs": [
        {
          "output_type": "stream",
          "name": "stderr",
          "text": [
            "<ipython-input-89-4f0082633c0d>:10: UserWarning: *c* argument looks like a single numeric RGB or RGBA sequence, which should be avoided as value-mapping will have precedence in case its length matches with *x* & *y*.  Please use the *color* keyword-argument or provide a 2D array with a single row if you intend to specify the same RGB or RGBA value for all points.\n",
            "  plt.scatter(X_set[y_set == j, 0], X_set[y_set == j, 1], c = ListedColormap(('red', 'green'))(i), label = j)\n"
          ]
        },
        {
          "output_type": "display_data",
          "data": {
            "text/plain": [
              "<Figure size 640x480 with 1 Axes>"
            ],
            "image/png": "[encoded data removed]"
          },
          "metadata": {}
        }
      ]
    },
    {
      "cell_type": "code",
      "source": [],
      "metadata": {
        "id": "j9X7zIJOLkCG"
      },
      "execution_count": null,
      "outputs": []
    }
  ]
}